{
 "cells": [
  {
   "cell_type": "code",
   "execution_count": 410,
   "id": "6c93e256",
   "metadata": {},
   "outputs": [],
   "source": [
    "import numpy as np\n",
    "import pandas as pd\n",
    "import matplotlib.pyplot as plt\n",
    "import seaborn as sns\n",
    "from sklearn.model_selection import train_test_split\n",
    "from sklearn.linear_model import LinearRegression\n",
    "from sklearn.ensemble import RandomForestRegressor"
   ]
  },
  {
   "cell_type": "code",
   "execution_count": 411,
   "id": "94311737",
   "metadata": {},
   "outputs": [],
   "source": [
    "data = pd.read_csv('boats.csv')"
   ]
  },
  {
   "cell_type": "code",
   "execution_count": 412,
   "id": "c142883a",
   "metadata": {},
   "outputs": [
    {
     "name": "stdout",
     "output_type": "stream",
     "text": [
      "<class 'pandas.core.frame.DataFrame'>\n",
      "Index: 1074 entries, 1 to 18902\n",
      "Data columns (total 26 columns):\n",
      " #   Column          Non-Null Count  Dtype  \n",
      "---  ------          --------------  -----  \n",
      " 0   Unnamed: 0      1074 non-null   int64  \n",
      " 1   id              1074 non-null   int64  \n",
      " 2   type            1074 non-null   object \n",
      " 3   boatClass       1074 non-null   object \n",
      " 4   make            1074 non-null   object \n",
      " 5   model           1074 non-null   object \n",
      " 6   year            1074 non-null   int64  \n",
      " 7   condition       1074 non-null   object \n",
      " 8   length_ft       1074 non-null   float64\n",
      " 9   beam_ft         1074 non-null   float64\n",
      " 10  dryWeight_lb    1074 non-null   float64\n",
      " 11  hullMaterial    1074 non-null   object \n",
      " 12  fuelType        1074 non-null   object \n",
      " 13  numEngines      1074 non-null   int64  \n",
      " 14  totalHP         1074 non-null   float64\n",
      " 15  maxEngineYear   1074 non-null   float64\n",
      " 16  minEngineYear   1074 non-null   float64\n",
      " 17  engineCategory  1074 non-null   object \n",
      " 18  price           1074 non-null   float64\n",
      " 19  sellerId        1074 non-null   int64  \n",
      " 20  city            1074 non-null   object \n",
      " 21  state           1074 non-null   object \n",
      " 22  zip             1074 non-null   object \n",
      " 23  created_date    1074 non-null   object \n",
      " 24  created_month   1074 non-null   int64  \n",
      " 25  created_year    1074 non-null   int64  \n",
      "dtypes: float64(7), int64(7), object(12)\n",
      "memory usage: 226.5+ KB\n"
     ]
    }
   ],
   "source": [
    "#dropping missing values\n",
    "data.dropna(inplace = True)\n",
    "data.info()"
   ]
  },
  {
   "cell_type": "code",
   "execution_count": 413,
   "id": "372f81d8",
   "metadata": {},
   "outputs": [
    {
     "data": {
      "text/html": [
       "<div>\n",
       "<style scoped>\n",
       "    .dataframe tbody tr th:only-of-type {\n",
       "        vertical-align: middle;\n",
       "    }\n",
       "\n",
       "    .dataframe tbody tr th {\n",
       "        vertical-align: top;\n",
       "    }\n",
       "\n",
       "    .dataframe thead th {\n",
       "        text-align: right;\n",
       "    }\n",
       "</style>\n",
       "<table border=\"1\" class=\"dataframe\">\n",
       "  <thead>\n",
       "    <tr style=\"text-align: right;\">\n",
       "      <th></th>\n",
       "      <th>Unnamed: 0</th>\n",
       "      <th>id</th>\n",
       "      <th>type</th>\n",
       "      <th>boatClass</th>\n",
       "      <th>make</th>\n",
       "      <th>model</th>\n",
       "      <th>year</th>\n",
       "      <th>condition</th>\n",
       "      <th>length_ft</th>\n",
       "      <th>beam_ft</th>\n",
       "      <th>...</th>\n",
       "      <th>minEngineYear</th>\n",
       "      <th>engineCategory</th>\n",
       "      <th>price</th>\n",
       "      <th>sellerId</th>\n",
       "      <th>city</th>\n",
       "      <th>state</th>\n",
       "      <th>zip</th>\n",
       "      <th>created_date</th>\n",
       "      <th>created_month</th>\n",
       "      <th>created_year</th>\n",
       "    </tr>\n",
       "  </thead>\n",
       "  <tbody>\n",
       "    <tr>\n",
       "      <th>1</th>\n",
       "      <td>3</td>\n",
       "      <td>7228300</td>\n",
       "      <td>power</td>\n",
       "      <td>power-sportcruiser</td>\n",
       "      <td>Formula</td>\n",
       "      <td>400 Super Sport</td>\n",
       "      <td>2018</td>\n",
       "      <td>used</td>\n",
       "      <td>40.0</td>\n",
       "      <td>11.00</td>\n",
       "      <td>...</td>\n",
       "      <td>2018.0</td>\n",
       "      <td>inboard-outboard</td>\n",
       "      <td>539000.0</td>\n",
       "      <td>44260</td>\n",
       "      <td>Harsens Island</td>\n",
       "      <td>MI</td>\n",
       "      <td>48028</td>\n",
       "      <td>2019-09-24</td>\n",
       "      <td>9</td>\n",
       "      <td>2019</td>\n",
       "    </tr>\n",
       "    <tr>\n",
       "      <th>2</th>\n",
       "      <td>5</td>\n",
       "      <td>7271336</td>\n",
       "      <td>power</td>\n",
       "      <td>power-deck</td>\n",
       "      <td>Bayliner</td>\n",
       "      <td>Element 180</td>\n",
       "      <td>2020</td>\n",
       "      <td>new</td>\n",
       "      <td>18.0</td>\n",
       "      <td>7.42</td>\n",
       "      <td>...</td>\n",
       "      <td>2019.0</td>\n",
       "      <td>outboard-4s</td>\n",
       "      <td>26995.0</td>\n",
       "      <td>220570</td>\n",
       "      <td>Marietta</td>\n",
       "      <td>OH</td>\n",
       "      <td>45750</td>\n",
       "      <td>2019-11-02</td>\n",
       "      <td>11</td>\n",
       "      <td>2019</td>\n",
       "    </tr>\n",
       "    <tr>\n",
       "      <th>4</th>\n",
       "      <td>8</td>\n",
       "      <td>6824832</td>\n",
       "      <td>power</td>\n",
       "      <td>power-aft</td>\n",
       "      <td>Carver</td>\n",
       "      <td>440 Aft Cabin Motor Yacht</td>\n",
       "      <td>1994</td>\n",
       "      <td>used</td>\n",
       "      <td>44.0</td>\n",
       "      <td>15.00</td>\n",
       "      <td>...</td>\n",
       "      <td>1994.0</td>\n",
       "      <td>inboard</td>\n",
       "      <td>109900.0</td>\n",
       "      <td>17942</td>\n",
       "      <td>Middle River</td>\n",
       "      <td>MD</td>\n",
       "      <td>21220</td>\n",
       "      <td>2018-08-29</td>\n",
       "      <td>8</td>\n",
       "      <td>2018</td>\n",
       "    </tr>\n",
       "    <tr>\n",
       "      <th>9</th>\n",
       "      <td>14</td>\n",
       "      <td>6920067</td>\n",
       "      <td>power</td>\n",
       "      <td>power-convertible</td>\n",
       "      <td>Hatteras</td>\n",
       "      <td>Convertible</td>\n",
       "      <td>1971</td>\n",
       "      <td>used</td>\n",
       "      <td>42.0</td>\n",
       "      <td>13.83</td>\n",
       "      <td>...</td>\n",
       "      <td>1977.0</td>\n",
       "      <td>inboard</td>\n",
       "      <td>59500.0</td>\n",
       "      <td>16876</td>\n",
       "      <td>Mystic</td>\n",
       "      <td>CT</td>\n",
       "      <td>06355</td>\n",
       "      <td>2018-11-26</td>\n",
       "      <td>11</td>\n",
       "      <td>2018</td>\n",
       "    </tr>\n",
       "    <tr>\n",
       "      <th>10</th>\n",
       "      <td>15</td>\n",
       "      <td>7034740</td>\n",
       "      <td>power</td>\n",
       "      <td>power-convertible</td>\n",
       "      <td>Hatteras</td>\n",
       "      <td>Convertible</td>\n",
       "      <td>1979</td>\n",
       "      <td>used</td>\n",
       "      <td>43.0</td>\n",
       "      <td>14.50</td>\n",
       "      <td>...</td>\n",
       "      <td>1979.0</td>\n",
       "      <td>inboard</td>\n",
       "      <td>79500.0</td>\n",
       "      <td>16876</td>\n",
       "      <td>Clinton</td>\n",
       "      <td>CT</td>\n",
       "      <td>06357</td>\n",
       "      <td>2019-03-31</td>\n",
       "      <td>3</td>\n",
       "      <td>2019</td>\n",
       "    </tr>\n",
       "  </tbody>\n",
       "</table>\n",
       "<p>5 rows × 26 columns</p>\n",
       "</div>"
      ],
      "text/plain": [
       "    Unnamed: 0       id   type           boatClass      make  \\\n",
       "1            3  7228300  power  power-sportcruiser   Formula   \n",
       "2            5  7271336  power          power-deck  Bayliner   \n",
       "4            8  6824832  power           power-aft    Carver   \n",
       "9           14  6920067  power   power-convertible  Hatteras   \n",
       "10          15  7034740  power   power-convertible  Hatteras   \n",
       "\n",
       "                        model  year condition  length_ft  beam_ft  ...  \\\n",
       "1             400 Super Sport  2018      used       40.0    11.00  ...   \n",
       "2                 Element 180  2020       new       18.0     7.42  ...   \n",
       "4   440 Aft Cabin Motor Yacht  1994      used       44.0    15.00  ...   \n",
       "9                 Convertible  1971      used       42.0    13.83  ...   \n",
       "10                Convertible  1979      used       43.0    14.50  ...   \n",
       "\n",
       "    minEngineYear    engineCategory     price  sellerId            city  \\\n",
       "1          2018.0  inboard-outboard  539000.0     44260  Harsens Island   \n",
       "2          2019.0       outboard-4s   26995.0    220570        Marietta   \n",
       "4          1994.0           inboard  109900.0     17942    Middle River   \n",
       "9          1977.0           inboard   59500.0     16876          Mystic   \n",
       "10         1979.0           inboard   79500.0     16876         Clinton   \n",
       "\n",
       "    state    zip created_date  created_month  created_year  \n",
       "1      MI  48028   2019-09-24              9          2019  \n",
       "2      OH  45750   2019-11-02             11          2019  \n",
       "4      MD  21220   2018-08-29              8          2018  \n",
       "9      CT  06355   2018-11-26             11          2018  \n",
       "10     CT  06357   2019-03-31              3          2019  \n",
       "\n",
       "[5 rows x 26 columns]"
      ]
     },
     "execution_count": 413,
     "metadata": {},
     "output_type": "execute_result"
    }
   ],
   "source": [
    "data.head()"
   ]
  },
  {
   "cell_type": "code",
   "execution_count": 414,
   "id": "a3b7c190",
   "metadata": {},
   "outputs": [],
   "source": [
    "\n",
    "# # data = data.join(pd.get_dummies(data.boatClass),on='id', how='left', lsuffix='_left', rsuffix='_right')\n",
    "# data = data.join(pd.get_dummies(data.make),on='id', how='left', lsuffix='_left', rsuffix='_right')\n",
    "# data = data.join(pd.get_dummies(data.condition),on='id', how='left', lsuffix='_left', rsuffix='_right')\n",
    "# data = data.join(pd.get_dummies(data.hullMaterial),on='id', how='left', lsuffix='_left', rsuffix='_right')\n",
    "# data = data.join(pd.get_dummies(data.fuelType),on='id', how='left', lsuffix='_left', rsuffix='_right')\n",
    "# data = data.join(pd.get_dummies(data.engineCategory),on='id', how='left', lsuffix='_left', rsuffix='_right')\n",
    "\n",
    "# data['area'] = data['length_ft'] * data['beam_ft']\n",
    "\n",
    "# data = data.drop(['model','boatClass','make','condition','hullMaterial','fuelType','engineCategory','length_ft','beam_ft','city','state','zip','created_date','created_month','created_year','maxEngineYear','minEngineYear'], axis = 1)\n"
   ]
  },
  {
   "cell_type": "markdown",
   "id": "490f5d80",
   "metadata": {},
   "source": [
    "the above cell was intended to one hot every features in the dataset but this does not return a good model score."
   ]
  },
  {
   "cell_type": "code",
   "execution_count": 415,
   "id": "ed91a990",
   "metadata": {},
   "outputs": [],
   "source": [
    "#  basic feature manipulation \n",
    "data['area'] = data['length_ft'] * data['beam_ft']\n",
    "\n",
    "data['type'] = data['type'].apply(lambda x : 1 if x =='power' else 0)\n",
    "\n",
    "data = data.drop(['id','sellerId','model','boatClass','make','condition','hullMaterial','fuelType','engineCategory','length_ft','beam_ft','city','state','zip','created_date','created_month','created_year','maxEngineYear','minEngineYear'], axis = 1)\n"
   ]
  },
  {
   "cell_type": "code",
   "execution_count": 416,
   "id": "83e44f21",
   "metadata": {},
   "outputs": [
    {
     "data": {
      "text/html": [
       "<div>\n",
       "<style scoped>\n",
       "    .dataframe tbody tr th:only-of-type {\n",
       "        vertical-align: middle;\n",
       "    }\n",
       "\n",
       "    .dataframe tbody tr th {\n",
       "        vertical-align: top;\n",
       "    }\n",
       "\n",
       "    .dataframe thead th {\n",
       "        text-align: right;\n",
       "    }\n",
       "</style>\n",
       "<table border=\"1\" class=\"dataframe\">\n",
       "  <thead>\n",
       "    <tr style=\"text-align: right;\">\n",
       "      <th></th>\n",
       "      <th>Unnamed: 0</th>\n",
       "      <th>type</th>\n",
       "      <th>year</th>\n",
       "      <th>dryWeight_lb</th>\n",
       "      <th>numEngines</th>\n",
       "      <th>totalHP</th>\n",
       "      <th>price</th>\n",
       "      <th>area</th>\n",
       "    </tr>\n",
       "  </thead>\n",
       "  <tbody>\n",
       "    <tr>\n",
       "      <th>1</th>\n",
       "      <td>3</td>\n",
       "      <td>1</td>\n",
       "      <td>2018</td>\n",
       "      <td>16100.0</td>\n",
       "      <td>2</td>\n",
       "      <td>800.0</td>\n",
       "      <td>539000.0</td>\n",
       "      <td>440.00</td>\n",
       "    </tr>\n",
       "    <tr>\n",
       "      <th>2</th>\n",
       "      <td>5</td>\n",
       "      <td>1</td>\n",
       "      <td>2020</td>\n",
       "      <td>2000.0</td>\n",
       "      <td>1</td>\n",
       "      <td>75.0</td>\n",
       "      <td>26995.0</td>\n",
       "      <td>133.56</td>\n",
       "    </tr>\n",
       "    <tr>\n",
       "      <th>4</th>\n",
       "      <td>8</td>\n",
       "      <td>1</td>\n",
       "      <td>1994</td>\n",
       "      <td>32000.0</td>\n",
       "      <td>2</td>\n",
       "      <td>700.0</td>\n",
       "      <td>109900.0</td>\n",
       "      <td>660.00</td>\n",
       "    </tr>\n",
       "    <tr>\n",
       "      <th>9</th>\n",
       "      <td>14</td>\n",
       "      <td>1</td>\n",
       "      <td>1971</td>\n",
       "      <td>35400.0</td>\n",
       "      <td>2</td>\n",
       "      <td>840.0</td>\n",
       "      <td>59500.0</td>\n",
       "      <td>580.86</td>\n",
       "    </tr>\n",
       "    <tr>\n",
       "      <th>10</th>\n",
       "      <td>15</td>\n",
       "      <td>1</td>\n",
       "      <td>1979</td>\n",
       "      <td>41000.0</td>\n",
       "      <td>2</td>\n",
       "      <td>900.0</td>\n",
       "      <td>79500.0</td>\n",
       "      <td>623.50</td>\n",
       "    </tr>\n",
       "  </tbody>\n",
       "</table>\n",
       "</div>"
      ],
      "text/plain": [
       "    Unnamed: 0  type  year  dryWeight_lb  numEngines  totalHP     price  \\\n",
       "1            3     1  2018       16100.0           2    800.0  539000.0   \n",
       "2            5     1  2020        2000.0           1     75.0   26995.0   \n",
       "4            8     1  1994       32000.0           2    700.0  109900.0   \n",
       "9           14     1  1971       35400.0           2    840.0   59500.0   \n",
       "10          15     1  1979       41000.0           2    900.0   79500.0   \n",
       "\n",
       "      area  \n",
       "1   440.00  \n",
       "2   133.56  \n",
       "4   660.00  \n",
       "9   580.86  \n",
       "10  623.50  "
      ]
     },
     "execution_count": 416,
     "metadata": {},
     "output_type": "execute_result"
    }
   ],
   "source": [
    "data.head()"
   ]
  },
  {
   "cell_type": "code",
   "execution_count": 424,
   "id": "3a37114b",
   "metadata": {},
   "outputs": [
    {
     "data": {
      "text/plain": [
       "<Axes: >"
      ]
     },
     "execution_count": 424,
     "metadata": {},
     "output_type": "execute_result"
    },
    {
     "data": {
      "image/png": "[encoded data removed]",
      "text/plain": [
       "<Figure size 1800x1200 with 2 Axes>"
      ]
     },
     "metadata": {},
     "output_type": "display_data"
    }
   ],
   "source": [
    "plt.figure(figsize = (18,12))\n",
    "sns.heatmap(data.corr(), annot = False, cmap = 'coolwarm')"
   ]
  },
  {
   "cell_type": "markdown",
   "id": "b944ab96",
   "metadata": {},
   "source": [
    "We can look at the price column and note features have higher correlation with price are'dryweight_lb', 'numEngines', 'totalHP' and 'area'."
   ]
  },
  {
   "cell_type": "code",
   "execution_count": 421,
   "id": "3826e42e",
   "metadata": {},
   "outputs": [],
   "source": [
    "x = data.drop(['price'], axis = 1)\n",
    "y = data['price']\n",
    "xtrain,xtest,ytrain,ytest = train_test_split(x, y, train_size= 0.8)"
   ]
  },
  {
   "cell_type": "code",
   "execution_count": 422,
   "id": "adbd26c1",
   "metadata": {},
   "outputs": [
    {
     "data": {
      "text/plain": [
       "0.9421455921095995"
      ]
     },
     "execution_count": 422,
     "metadata": {},
     "output_type": "execute_result"
    }
   ],
   "source": [
    "# fitting the model\n",
    "model = RandomForestRegressor()\n",
    "model.fit(xtrain,ytrain)\n",
    "model.score(xtest,ytest)"
   ]
  },
  {
   "cell_type": "code",
   "execution_count": 423,
   "id": "615011a9",
   "metadata": {},
   "outputs": [
    {
     "data": {
      "text/plain": [
       "array([2.79837835e-02, 6.40584245e-05, 1.35360612e-01, 8.32610371e-02,\n",
       "       1.03247744e-02, 5.11428675e-01, 2.31577059e-01])"
      ]
     },
     "execution_count": 423,
     "metadata": {},
     "output_type": "execute_result"
    }
   ],
   "source": [
    "# checking the importance of each features \n",
    "model.feature_importances_"
   ]
  },
  {
   "cell_type": "code",
   "execution_count": null,
   "id": "19f1806c",
   "metadata": {},
   "outputs": [],
   "source": []
  }
 ],
 "metadata": {
  "kernelspec": {
   "display_name": "testenv",
   "language": "python",
   "name": "testenv"
  },
  "language_info": {
   "codemirror_mode": {
    "name": "ipython",
    "version": 3
   },
   "file_extension": ".py",
   "mimetype": "text/x-python",
   "name": "python",
   "nbconvert_exporter": "python",
   "pygments_lexer": "ipython3",
   "version": "3.11.8"
  }
 },
 "nbformat": 4,
 "nbformat_minor": 5
}
